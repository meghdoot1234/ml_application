{
 "cells": [
  {
   "cell_type": "code",
   "execution_count": 2,
   "id": "09830e00",
   "metadata": {},
   "outputs": [],
   "source": [
    "import streamlit as st\n",
    "import joblib\n",
    "import pandas as pd\n"
   ]
  },
  {
   "cell_type": "code",
   "execution_count": 3,
   "id": "39db4588",
   "metadata": {},
   "outputs": [
    {
     "name": "stderr",
     "output_type": "stream",
     "text": [
      "2023-01-18 22:37:00.863 \n",
      "  \u001b[33m\u001b[1mWarning:\u001b[0m to view this Streamlit app on a browser, run it with the following\n",
      "  command:\n",
      "\n",
      "    streamlit run C:\\ProgramData\\Anaconda3\\lib\\site-packages\\ipykernel_launcher.py [ARGUMENTS]\n"
     ]
    }
   ],
   "source": [
    "st.write(\"# 10 Year Heart Disease Prediction\")\n",
    "male = st.selectbox(\"Enter your gender\",[\"Male\", \"Female\"])\n",
    "col1, col2, col3 = st.columns(3)\n",
    "\n",
    "# getting user inputgender = col1.selectbox(\"Enter your gender\",[\"Male\", \"Female\"])\n",
    "\n",
    "age = col2.number_input(\"Enter your age\")\n",
    "education = col3.selectbox(\"Highest academic qualification\",[\"High school diploma\", \"Undergraduate degree\", \"Postgraduate degree\", \"PhD\"])\n",
    "\n",
    "isSmoker = col1.selectbox(\"Are you currently a smoker?\",[\"Yes\",\"No\"])\n",
    "\n",
    "yearsSmoking = col2.number_input(\"Number of daily cigarettes\")\n",
    "\n",
    "BPMeds = col3.selectbox(\"Are you currently on BP medication?\",[\"Yes\",\"No\"])\n",
    "\n",
    "stroke = col1.selectbox(\"Have you ever experienced a stroke?\",[\"Yes\",\"No\"])\n",
    "\n",
    "hyp = col2.selectbox(\"Do you have hypertension?\",[\"Yes\",\"No\"])\n",
    "\n",
    "diabetes = col3.selectbox(\"Do you have diabetes?\",[\"Yes\",\"No\"])\n",
    "\n",
    "chol = col1.number_input(\"Enter your cholesterol level\")\n",
    "\n",
    "sys_bp = col2.number_input(\"Enter your systolic blood pressure\")\n",
    "\n",
    "dia_bp = col3.number_input(\"Enter your diastolic blood pressure\")\n",
    "\n",
    "bmi = col1.number_input(\"Enter your BMI\")\n",
    "\n",
    "heart_rate = col2.number_input(\"Enter your resting heart rate\")\n",
    "\n",
    "glucose = col3.number_input(\"Enter your glucose level\")"
   ]
  },
  {
   "cell_type": "code",
   "execution_count": 4,
   "id": "25e3deb6",
   "metadata": {},
   "outputs": [
    {
     "data": {
      "text/plain": [
       "False"
      ]
     },
     "execution_count": 4,
     "metadata": {},
     "output_type": "execute_result"
    }
   ],
   "source": [
    "st.button('Predict', key = \"predict\")"
   ]
  },
  {
   "cell_type": "code",
   "execution_count": 5,
   "id": "0ae718d0",
   "metadata": {},
   "outputs": [],
   "source": [
    "df_pred = pd.DataFrame([[male,age,education,isSmoker,yearsSmoking,BPMeds,stroke,hyp,diabetes,chol,sys_bp,dia_bp,bmi,heart_rate,glucose]],\n",
    "\n",
    "columns= ['male','age','education','currentSmoker','cigsPerDay','BPMeds','prevalentStroke','prevalentHyp','diabetes','totChol','sysBP','diaBP','BMI','heartRate','glucose'])\n",
    "\n",
    "df_pred['male'] = df_pred['male'].apply(lambda x: 1 if x == 'Male' else 0)\n",
    "\n",
    "df_pred['prevalentHyp'] = df_pred['prevalentHyp'].apply(lambda x: 1 if x == 'Yes' else 0)\n",
    "\n",
    "df_pred['prevalentStroke'] = df_pred['prevalentStroke'].apply(lambda x: 1 if x == 'Yes' else 0)\n",
    "\n",
    "df_pred['diabetes'] = df_pred['diabetes'].apply(lambda x: 1 if x == 'Yes' else 0)\n",
    "\n",
    "df_pred['BPMeds'] = df_pred['BPMeds'].apply(lambda x: 1 if x == 'Yes' else 0)\n",
    "\n",
    "df_pred['currentSmoker'] = df_pred['currentSmoker'].apply(lambda x: 1 if x == 'Yes' else 0)\n",
    "def transform(data):\n",
    "    result = 3\n",
    "    if(data=='High school diploma'):\n",
    "        result = 0\n",
    "    elif(data=='Undergraduate degree'):\n",
    "        result = 1\n",
    "    elif(data=='Postgraduate degree'):\n",
    "        result = 2\n",
    "    return(result)\n",
    "df_pred['education'] = df_pred['education'].apply(transform)"
   ]
  },
  {
   "cell_type": "code",
   "execution_count": 6,
   "id": "ed81ad7b",
   "metadata": {},
   "outputs": [],
   "source": [
    "model = joblib.load('fhs_rf_model.pkl')\n",
    "prediction = model.predict(df_pred)"
   ]
  },
  {
   "cell_type": "code",
   "execution_count": 7,
   "id": "7c910aa1",
   "metadata": {},
   "outputs": [],
   "source": [
    "if st.button('Predict'):\n",
    "\n",
    "    if(prediction[0]==0):\n",
    "        st.write('<p class=\"big-font\">You likely will not develop heart disease in 10 years.</p>',unsafe_allow_html=True)\n",
    "\n",
    "    else:\n",
    "        st.write('<p class=\"big-font\">You are likely to develop heart disease in 10 years.</p>',unsafe_allow_html=True)"
   ]
  },
  {
   "cell_type": "code",
   "execution_count": null,
   "id": "60ced9bc",
   "metadata": {},
   "outputs": [],
   "source": []
  }
 ],
 "metadata": {
  "kernelspec": {
   "display_name": "Python 3 (ipykernel)",
   "language": "python",
   "name": "python3"
  },
  "language_info": {
   "codemirror_mode": {
    "name": "ipython",
    "version": 3
   },
   "file_extension": ".py",
   "mimetype": "text/x-python",
   "name": "python",
   "nbconvert_exporter": "python",
   "pygments_lexer": "ipython3",
   "version": "3.9.13"
  }
 },
 "nbformat": 4,
 "nbformat_minor": 5
}
